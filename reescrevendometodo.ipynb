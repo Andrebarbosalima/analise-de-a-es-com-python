{
  "nbformat": 4,
  "nbformat_minor": 0,
  "metadata": {
    "colab": {
      "provenance": [],
      "authorship_tag": "ABX9TyMR8eOkykwgi1GbcyOAm5kg",
      "include_colab_link": true
    },
    "kernelspec": {
      "name": "python3",
      "display_name": "Python 3"
    },
    "language_info": {
      "name": "python"
    }
  },
  "cells": [
    {
      "cell_type": "markdown",
      "metadata": {
        "id": "view-in-github",
        "colab_type": "text"
      },
      "source": [
        "<a href=\"https://colab.research.google.com/github/Andrebarbosalima/analise-de-a-es-com-python/blob/main/reescrevendometodo.ipynb\" target=\"_parent\"><img src=\"https://colab.research.google.com/assets/colab-badge.svg\" alt=\"Open In Colab\"/></a>"
      ]
    },
    {
      "cell_type": "code",
      "execution_count": null,
      "metadata": {
        "colab": {
          "base_uri": "https://localhost:8080/"
        },
        "id": "FQDS1m_tmelu",
        "outputId": "a8792d1f-4aca-4c7b-fc74-2676fbba4980"
      },
      "outputs": [
        {
          "output_type": "stream",
          "name": "stdout",
          "text": [
            "{'_nome': 'João', '_cpf': '111111111-11', '_salario': 2000.0}\n",
            "200.0\n",
            "{'_nome': 'José', '_cpf': '222222222-22', '_salario': 5000.0, '_senha': '1234', '_qtd_funcionarios': 0}\n",
            "750.0\n"
          ]
        }
      ],
      "source": [
        "class Funcionario:\n",
        "  def\t__init__(self,\tnome,\tcpf,\tsalario):\n",
        "    self._nome\t=\tnome\n",
        "    self._cpf\t=\tcpf\n",
        "    self._salario\t=\tsalario\n",
        "  def\tget_bonificacao(self):\n",
        "    return\tself._salario\t*\t0.10        \n",
        "\n",
        "class Gerente(Funcionario):\n",
        "  def\t__init__(self,\tnome,\tcpf,\tsalario,\tsenha,\tqtd_funcionarios):\n",
        "     super().__init__(nome,\tcpf,\tsalario)\n",
        "     self._senha\t=\tsenha\n",
        "     self._qtd_funcionarios\t=\tqtd_funcionarios  \n",
        "  def\tget_bonificacao(self):\n",
        "\t\t\t\t\t\t\t\treturn\tself._salario\t*\t0.15     \n",
        "\n",
        "funcionario\t=\tFuncionario('João',\t'111111111-11',\t2000.0)\n",
        "print(vars(funcionario))    \n",
        "print(funcionario.get_bonificacao())  \n",
        "\n",
        "gerente\t=\tGerente('José',\t'222222222-22',\t5000.0,\t'1234',\t0)\n",
        "print(vars(gerente))\n",
        "print(gerente.get_bonificacao())"
      ]
    }
  ]
}